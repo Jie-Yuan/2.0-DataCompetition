{
 "cells": [
  {
   "cell_type": "code",
   "execution_count": 2,
   "metadata": {
    "collapsed": false
   },
   "outputs": [
    {
     "name": "stdout",
     "output_type": "stream",
     "text": [
      "Sucessful Import Me!!!\n"
     ]
    }
   ],
   "source": [
    "%matplotlib inline\n",
    "import os\n",
    "path = '/root/github/3_SpecialModule'\n",
    "os.sys.path.append(path)\n",
    "\n",
    "from Me import *"
   ]
  },
  {
   "cell_type": "markdown",
   "metadata": {},
   "source": [
    "# Train Data"
   ]
  },
  {
   "cell_type": "code",
   "execution_count": 4,
   "metadata": {
    "collapsed": false
   },
   "outputs": [],
   "source": [
    "train_X = np.arange(20)\n",
    "noise = np.random.uniform(size=20)\n",
    "train_Y = train_X + noise\n",
    "n_samples = train_X.shape[0]\n"
   ]
  },
  {
   "cell_type": "markdown",
   "metadata": {},
   "source": [
    "# Params"
   ]
  },
  {
   "cell_type": "code",
   "execution_count": 5,
   "metadata": {
    "collapsed": true
   },
   "outputs": [],
   "source": [
    "learning_rate = 0.001\n",
    "training_epochs = 1000\n",
    "display_step = 50"
   ]
  },
  {
   "cell_type": "markdown",
   "metadata": {},
   "source": [
    "# Construct Model"
   ]
  },
  {
   "cell_type": "code",
   "execution_count": 6,
   "metadata": {
    "collapsed": true
   },
   "outputs": [],
   "source": [
    "X = tf.placeholder(tf.float32)\n",
    "y = tf.placeholder(tf.float32)\n",
    "\n",
    "W = tf.Variable(np.random.randn(), name=\"weight\")\n",
    "b = tf.Variable(np.random.randn(), name=\"bias\")\n",
    "pred = tf.add(tf.multiply(X, W), b)"
   ]
  },
  {
   "cell_type": "markdown",
   "metadata": {},
   "source": [
    "# Loss + Optimizer"
   ]
  },
  {
   "cell_type": "code",
   "execution_count": 7,
   "metadata": {
    "collapsed": false
   },
   "outputs": [],
   "source": [
    "loss = tf.losses.mean_squared_error(y,pred)\n",
    "optimizer = tf.train.GradientDescentOptimizer(learning_rate).minimize(loss)"
   ]
  },
  {
   "cell_type": "markdown",
   "metadata": {},
   "source": [
    "# Initializing the variables"
   ]
  },
  {
   "cell_type": "code",
   "execution_count": 8,
   "metadata": {
    "collapsed": true
   },
   "outputs": [],
   "source": [
    "init = tf.global_variables_initializer()"
   ]
  },
  {
   "cell_type": "markdown",
   "metadata": {},
   "source": [
    "# Launch the graph"
   ]
  },
  {
   "cell_type": "code",
   "execution_count": 9,
   "metadata": {
    "collapsed": false
   },
   "outputs": [
    {
     "name": "stdout",
     "output_type": "stream",
     "text": [
      "===> Epoch:0050, loss=0.496444672, W = -0.410223842, b = -0.229686990\n",
      "===> Epoch:0100, loss=0.432945609, W = -0.395919412, b = -0.175181195\n",
      "===> Epoch:0150, loss=0.380494207, W = -0.382093310, b = -0.125867322\n",
      "===> Epoch:0200, loss=0.337117076, W = -0.368729651, b = -0.081250682\n",
      "===> Epoch:0250, loss=0.301197022, W = -0.355812877, b = -0.040883955\n",
      "===> Epoch:0300, loss=0.271408230, W = -0.343328267, b = -0.004362270\n",
      "===> Epoch:0350, loss=0.246663660, W = -0.331261188, b = 0.028680608\n",
      "===> Epoch:0400, loss=0.226071849, W = -0.319597691, b = 0.058576036\n",
      "===> Epoch:0450, loss=0.208901420, W = -0.308324367, b = 0.085623823\n",
      "===> Epoch:0500, loss=0.194552377, W = -0.297427982, b = 0.110095263\n",
      "===> Epoch:0550, loss=0.182532161, W = -0.286896080, b = 0.132235721\n",
      "===> Epoch:0600, loss=0.172436327, W = -0.276716530, b = 0.152267188\n",
      "===> Epoch:0650, loss=0.163932532, W = -0.266877443, b = 0.170390636\n",
      "===> Epoch:0700, loss=0.156747743, W = -0.257367373, b = 0.186787724\n",
      "===> Epoch:0750, loss=0.150657326, W = -0.248175353, b = 0.201622978\n",
      "===> Epoch:0800, loss=0.145476535, W = -0.239290774, b = 0.215045109\n",
      "===> Epoch:0850, loss=0.141053155, W = -0.230703384, b = 0.227188736\n",
      "===> Epoch:0900, loss=0.137261778, W = -0.222403169, b = 0.238175660\n",
      "===> Epoch:0950, loss=0.133998960, W = -0.214380562, b = 0.248116091\n",
      "===> Epoch:1000, loss=0.131179288, W = -0.206626311, b = 0.257109612\n",
      "Optimization Finished!\n",
      "Training loss= 0.131179 W= -0.206626 b= 0.25711 \n",
      "\n"
     ]
    },
    {
     "data": {
      "image/png": "[encoded data removed]",
      "text/plain": [
       "<matplotlib.figure.Figure at 0x7f1771386518>"
      ]
     },
     "metadata": {},
     "output_type": "display_data"
    }
   ],
   "source": [
    "with tf.Session() as sess:\n",
    "    sess.run(init)\n",
    "    # Fit all training data\n",
    "    for epoch in range(training_epochs):\n",
    "        sess.run(optimizer, feed_dict={X: train_X, y: train_Y})\n",
    "        #Display logs per epoch step\n",
    "        if (epoch+1) % display_step == 0:\n",
    "            c = sess.run(loss, feed_dict={X: train_X, y:train_Y})\n",
    "            print(\"===> Epoch:{:04d}, loss={:.9f}, W = {:.9f}, b = {:.9f}\".format(epoch+1, c, sess.run(W), sess.run(b)))\n",
    "\n",
    "    print( \"Optimization Finished!\")\n",
    "    training_cost = sess.run(loss, feed_dict={X: train_X, y: train_Y})\n",
    "    print (\"Training loss=\", training_cost, \"W=\", sess.run(W), \"b=\", sess.run(b), '\\n')\n",
    "\n",
    "    #Graphic display\n",
    "    plt.plot(train_X, train_Y, 'ro', label='Original data')\n",
    "    plt.plot(train_X, sess.run(W) * train_X + sess.run(b), label='Fitted line')\n",
    "    plt.legend()\n",
    "    plt.show()"
   ]
  },
  {
   "cell_type": "code",
   "execution_count": null,
   "metadata": {
    "collapsed": true
   },
   "outputs": [],
   "source": []
  }
 ],
 "metadata": {
  "anaconda-cloud": {},
  "kernelspec": {
   "display_name": "Python [default]",
   "language": "python",
   "name": "python3"
  },
  "language_info": {
   "codemirror_mode": {
    "name": "ipython",
    "version": 3
   },
   "file_extension": ".py",
   "mimetype": "text/x-python",
   "name": "python",
   "nbconvert_exporter": "python",
   "pygments_lexer": "ipython3",
   "version": "3.5.2"
  },
  "toc": {
   "colors": {
    "hover_highlight": "#DAA520",
    "running_highlight": "#FF0000",
    "selected_highlight": "#FFD700"
   },
   "moveMenuLeft": true,
   "nav_menu": {
    "height": "156px",
    "width": "252px"
   },
   "navigate_menu": true,
   "number_sections": true,
   "sideBar": true,
   "threshold": 4,
   "toc_cell": false,
   "toc_section_display": "block",
   "toc_window_display": false,
   "widenNotebook": false
  }
 },
 "nbformat": 4,
 "nbformat_minor": 1
}
