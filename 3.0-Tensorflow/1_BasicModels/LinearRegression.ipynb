{
 "cells": [
  {
   "cell_type": "code",
   "execution_count": 1,
   "metadata": {
    "collapsed": false
   },
   "outputs": [
    {
     "name": "stdout",
     "output_type": "stream",
     "text": [
      "Sucessful Import Me!!!\n"
     ]
    }
   ],
   "source": [
    "%matplotlib inline\n",
    "import os\n",
    "path = '/root/github/3_SpecialModule'\n",
    "os.sys.path.append(path)\n",
    "\n",
    "from Me import *"
   ]
  },
  {
   "cell_type": "markdown",
   "metadata": {},
   "source": [
    "# Train Data"
   ]
  },
  {
   "cell_type": "code",
   "execution_count": 2,
   "metadata": {
    "collapsed": true
   },
   "outputs": [],
   "source": [
    "train_X = np.arange(20)\n",
    "noise = np.random.uniform(size=20)\n",
    "train_Y = train_X + noise\n",
    "n_samples = train_X.shape[0]"
   ]
  },
  {
   "cell_type": "markdown",
   "metadata": {},
   "source": [
    "# Params"
   ]
  },
  {
   "cell_type": "code",
   "execution_count": 3,
   "metadata": {
    "collapsed": true
   },
   "outputs": [],
   "source": [
    "learning_rate = 0.001\n",
    "training_epochs = 1000\n",
    "display_step = 50"
   ]
  },
  {
   "cell_type": "markdown",
   "metadata": {},
   "source": [
    "# Construct Model"
   ]
  },
  {
   "cell_type": "code",
   "execution_count": 4,
   "metadata": {
    "collapsed": true
   },
   "outputs": [],
   "source": [
    "X = tf.placeholder(tf.float32)\n",
    "y = tf.placeholder(tf.float32)\n",
    "\n",
    "W = tf.Variable(np.random.randn(), name=\"weight\")\n",
    "b = tf.Variable(np.random.randn(), name=\"bias\")\n",
    "pred = tf.add(tf.multiply(X, W), b)"
   ]
  },
  {
   "cell_type": "markdown",
   "metadata": {},
   "source": [
    "# Loss + Optimizer"
   ]
  },
  {
   "cell_type": "code",
   "execution_count": 5,
   "metadata": {
    "collapsed": false
   },
   "outputs": [],
   "source": [
    "loss = tf.losses.mean_squared_error(y,pred)\n",
    "optimizer = tf.train.GradientDescentOptimizer(learning_rate).minimize(loss)"
   ]
  },
  {
   "cell_type": "markdown",
   "metadata": {},
   "source": [
    "# Initializing the variables"
   ]
  },
  {
   "cell_type": "code",
   "execution_count": 6,
   "metadata": {
    "collapsed": true
   },
   "outputs": [],
   "source": [
    "init = tf.global_variables_initializer()"
   ]
  },
  {
   "cell_type": "markdown",
   "metadata": {},
   "source": [
    "# Launch the graph"
   ]
  },
  {
   "cell_type": "code",
   "execution_count": 7,
   "metadata": {
    "collapsed": false
   },
   "outputs": [
    {
     "name": "stdout",
     "output_type": "stream",
     "text": [
      "===> Epoch:0050, loss=0.154662579, W = 1.025171041, b = 0.193413347\n",
      "===> Epoch:0100, loss=0.152497411, W = 1.024371386, b = 0.203788742\n",
      "===> Epoch:0150, loss=0.150444776, W = 1.023592710, b = 0.213890105\n",
      "===> Epoch:0200, loss=0.148499370, W = 1.022834539, b = 0.223724529\n",
      "===> Epoch:0250, loss=0.146655440, W = 1.022096515, b = 0.233299211\n",
      "===> Epoch:0300, loss=0.144907519, W = 1.021377921, b = 0.242620945\n",
      "===> Epoch:0350, loss=0.143250674, W = 1.020678282, b = 0.251696497\n",
      "===> Epoch:0400, loss=0.141680479, W = 1.019997120, b = 0.260532200\n",
      "===> Epoch:0450, loss=0.140191898, W = 1.019333959, b = 0.269134611\n",
      "===> Epoch:0500, loss=0.138780951, W = 1.018688321, b = 0.277509809\n",
      "===> Epoch:0550, loss=0.137443572, W = 1.018059731, b = 0.285663605\n",
      "===> Epoch:0600, loss=0.136176080, W = 1.017447710, b = 0.293602139\n",
      "===> Epoch:0650, loss=0.134974509, W = 1.016851783, b = 0.301330894\n",
      "===> Epoch:0700, loss=0.133835584, W = 1.016271949, b = 0.308855563\n",
      "===> Epoch:0750, loss=0.132756040, W = 1.015707016, b = 0.316181332\n",
      "===> Epoch:0800, loss=0.131732777, W = 1.015157342, b = 0.323313653\n",
      "===> Epoch:0850, loss=0.130762890, W = 1.014621854, b = 0.330257624\n",
      "===> Epoch:0900, loss=0.129843548, W = 1.014100790, b = 0.337018102\n",
      "===> Epoch:0950, loss=0.128972098, W = 1.013593435, b = 0.343600005\n",
      "===> Epoch:1000, loss=0.128146157, W = 1.013099432, b = 0.350007951\n",
      "Optimization Finished!\n",
      "Training loss= 0.128146 W= 1.0131 b= 0.350008 \n",
      "\n"
     ]
    },
    {
     "data": {
      "image/png": "[encoded data removed]",
      "text/plain": [
       "<matplotlib.figure.Figure at 0x7f98c6ca4da0>"
      ]
     },
     "metadata": {},
     "output_type": "display_data"
    }
   ],
   "source": [
    "with tf.Session() as sess:\n",
    "    sess.run(init)\n",
    "    # Fit all training data\n",
    "    for epoch in range(training_epochs):\n",
    "        sess.run(optimizer, feed_dict={X: train_X, y: train_Y})\n",
    "        #Display logs per epoch step\n",
    "        if (epoch+1) % display_step == 0:\n",
    "            c = sess.run(loss, feed_dict={X: train_X, y:train_Y})\n",
    "            print(\"===> Epoch:{:04d}, loss={:.9f}, W = {:.9f}, b = {:.9f}\".format(epoch+1, c, sess.run(W), sess.run(b)))\n",
    "\n",
    "    print( \"Optimization Finished!\")\n",
    "    training_cost = sess.run(loss, feed_dict={X: train_X, y: train_Y})\n",
    "    print (\"Training loss=\", training_cost, \"W=\", sess.run(W), \"b=\", sess.run(b), '\\n')\n",
    "\n",
    "    #Graphic display\n",
    "    plt.plot(train_X, train_Y, 'ro', label='Original data')\n",
    "    plt.plot(train_X, sess.run(W) * train_X + sess.run(b), label='Fitted line')\n",
    "    plt.legend()\n",
    "    plt.show()"
   ]
  },
  {
   "cell_type": "code",
   "execution_count": null,
   "metadata": {
    "collapsed": true
   },
   "outputs": [],
   "source": []
  }
 ],
 "metadata": {
  "anaconda-cloud": {},
  "kernelspec": {
   "display_name": "Python [default]",
   "language": "python",
   "name": "python3"
  },
  "language_info": {
   "codemirror_mode": {
    "name": "ipython",
    "version": 3
   },
   "file_extension": ".py",
   "mimetype": "text/x-python",
   "name": "python",
   "nbconvert_exporter": "python",
   "pygments_lexer": "ipython3",
   "version": "3.5.2"
  },
  "toc": {
   "colors": {
    "hover_highlight": "#DAA520",
    "running_highlight": "#FF0000",
    "selected_highlight": "#FFD700"
   },
   "moveMenuLeft": true,
   "nav_menu": {
    "height": "156px",
    "width": "252px"
   },
   "navigate_menu": true,
   "number_sections": true,
   "sideBar": true,
   "threshold": 4,
   "toc_cell": false,
   "toc_section_display": "block",
   "toc_window_display": false,
   "widenNotebook": false
  }
 },
 "nbformat": 4,
 "nbformat_minor": 1
}
