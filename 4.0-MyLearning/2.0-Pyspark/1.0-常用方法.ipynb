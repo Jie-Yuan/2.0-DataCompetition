{
 "cells": [
  {
   "cell_type": "code",
   "execution_count": null,
   "metadata": {
    "code_folding": [],
    "collapsed": true
   },
   "outputs": [],
   "source": [
    "# 聚合函数\n",
    "ls = [[100,'name1',0.43,0],\n",
    "      [100,'name2',0.33,0],\n",
    "      [100,'name3',0.73,0],\n",
    "      [101,'name1',0.29,0],\n",
    "      [101,'name2',0.96,0]]\n",
    "dff = spark.createDataFrame(ls, schema=['a', 'b', 'c', 'd'])\n",
    "\n",
    "\n",
    "import numpy as np\n",
    "\n",
    "import pyspark.sql.functions as func\n",
    "from pyspark.sql.types import FloatType\n",
    "\n",
    "def median(values_list):\n",
    "    med = np.median(values_list)\n",
    "    return float(med)\n",
    "udf_median = func.udf(median, FloatType())\n",
    "\n",
    "group_df = dff.groupby(['a', 'd'])\n",
    "group_df.agg(udf_median(func.collect_list(F.col('c'))).alias('median')).show()\n",
    "\n",
    "# 简写方式：主要是数据类型要对应(float->FloatType())\n",
    "udf_median = func.udf(lambda x:float(np.median(x)), FloatType())\n",
    "group_df.agg(udf_median(func.collect_list(F.col('c'))).alias('median')).show()"
   ]
  },
  {
   "cell_type": "code",
   "execution_count": 1,
   "metadata": {
    "collapsed": false
   },
   "outputs": [
    {
     "data": {
      "text/plain": [
       "'He said his name is Fred.'"
      ]
     },
     "execution_count": 1,
     "metadata": {},
     "output_type": "execute_result"
    }
   ],
   "source": [
    "name = \"Fred\"\n",
    "f\"He said his name is {name}.\""
   ]
  },
  {
   "cell_type": "code",
   "execution_count": 2,
   "metadata": {
    "collapsed": false
   },
   "outputs": [
    {
     "data": {
      "text/plain": [
       "'He said his name is Fred.'"
      ]
     },
     "execution_count": 2,
     "metadata": {},
     "output_type": "execute_result"
    }
   ],
   "source": [
    "name = \"Fred\"\n",
    "\"He said his name is {name}.\".format(name=name)"
   ]
  },
  {
   "cell_type": "code",
   "execution_count": 3,
   "metadata": {
    "collapsed": false
   },
   "outputs": [
    {
     "data": {
      "text/plain": [
       "'He said his name is FredFred'"
      ]
     },
     "execution_count": 3,
     "metadata": {},
     "output_type": "execute_result"
    }
   ],
   "source": [
    "name = \"Fred\"\n",
    "\"He said his name is %s%s\"    %(name,name)"
   ]
  },
  {
   "cell_type": "code",
   "execution_count": null,
   "metadata": {
    "collapsed": true
   },
   "outputs": [],
   "source": [
    "# 学习\n",
    "df = df.na.replace\n",
    "# 待总结\n",
    "先整体过采样union然后欠采样"
   ]
  }
 ],
 "metadata": {
  "kernelspec": {
   "display_name": "Python 3",
   "language": "python",
   "name": "python3"
  },
  "language_info": {
   "codemirror_mode": {
    "name": "ipython",
    "version": 3
   },
   "file_extension": ".py",
   "mimetype": "text/x-python",
   "name": "python",
   "nbconvert_exporter": "python",
   "pygments_lexer": "ipython3",
   "version": "3.6.0"
  },
  "toc": {
   "colors": {
    "hover_highlight": "#DAA520",
    "running_highlight": "#FF0000",
    "selected_highlight": "#FFD700"
   },
   "moveMenuLeft": true,
   "nav_menu": {
    "height": "12px",
    "width": "252px"
   },
   "navigate_menu": true,
   "number_sections": true,
   "sideBar": true,
   "threshold": 4,
   "toc_cell": false,
   "toc_section_display": "block",
   "toc_window_display": false
  }
 },
 "nbformat": 4,
 "nbformat_minor": 2
}
