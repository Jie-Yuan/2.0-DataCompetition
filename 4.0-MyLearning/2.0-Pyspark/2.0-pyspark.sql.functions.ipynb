{
 "cells": [
  {
   "cell_type": "code",
   "execution_count": 2,
   "metadata": {
    "collapsed": false
   },
   "outputs": [],
   "source": [
    "import pyspark.sql.functions as F"
   ]
  },
  {
   "cell_type": "markdown",
   "metadata": {},
   "source": [
    "# time"
   ]
  },
  {
   "cell_type": "code",
   "execution_count": null,
   "metadata": {
    "collapsed": true
   },
   "outputs": [],
   "source": [
    "# 掌握时间戳统一处理方法，足以解决常见问题！\n",
    "# 时序数据通用处理方法：转换为时间戳\n",
    "# 日期字符串转时间戳\n",
    "F.unix_timestamp(timestamp=None, format='yyyy-MM-dd HH:mm:ss')# 当前时间戳\n",
    "F.unix_timestamp(timestamp='字段', format='yyyy-MM-dd HH:mm:ss')\n",
    "# 时间戳转日期字符串\n",
    "F.from_unixtime(timestamp='字段', format='yyyy-MM-dd HH:mm:ss')\n",
    "\n",
    "# year\n",
    "F.year\n",
    "F.month\n",
    "F.dayofyear\n",
    "F.dayofmonth\n",
    "F.weekofyear\n",
    "# 当月最后一天\n",
    "F.last_day\n",
    "# 接下来第一个周X\n",
    "F.next_day(date, dayOfWeek)\n",
    "\n",
    "F.to_date\n",
    "df = spark.createDataFrame([('2015-07-27',)], ['d'])\n",
    "df.select(next_day(df.d, 'Mon').alias('date')).collect()\n",
    "\n",
    "[Row(date=datetime.date(2015, 8, 3))]\n",
    "\n",
    "F.date_format\n",
    "df = spark.createDataFrame([('2015-04-08',)], ['a'])\n",
    "df.select(date_format('a', 'MM/dd/yyy').alias('date')).collect()\n",
    "\n",
    "[Row(date=u'04/08/2015')]\n",
    "\n",
    "# date+day\n",
    "F.date_add\n",
    "# date-day\n",
    "F.date_sub天减\n",
    "# date+mpnth\n",
    "F.add_months月加\n",
    "# date-date\n",
    "F.datediff\n",
    "# 可用python的模块\n",
    "F.current_date\n",
    "F.current_timestamp\n",
    "# month\n",
    "加n月\n",
    "F.months_between月间隔\n",
    "F.monotonically_increasing_id#generates monotonically increasing 64-bit integers"
   ]
  },
  {
   "cell_type": "markdown",
   "metadata": {},
   "source": [
    "# 列操作\n",
    "- 列合并\n",
    "- 列裂变"
   ]
  },
  {
   "cell_type": "code",
   "execution_count": null,
   "metadata": {
    "collapsed": true
   },
   "outputs": [],
   "source": [
    "# 聚合\n",
    "# 组内合并\n",
    "F.collect_list(col) # F.explode(col)反向操作\n",
    "F.collect_set(col)\n",
    "# 多列合并\n",
    "F.array(*cols) # F.struct 类似 \n",
    "F.concat(*cols)\n",
    "F.concat_ws(sep, *cols)# F.split(str, pattern) F.substring(str, pos, len) 反向操作 \n",
    "# 其他\n",
    "F.repeat(col, n)\n",
    "F.reverse(col)\n",
    "F.first\n",
    "F.last\n",
    "F.translate # spark.createDataFrame([('2016-01-01',)], ['a']).select(translate('a', \"-\", \"\")).show()\n",
    "F.nanvl # 行补缺失值：Returns col1 if it is not NaN, or col2 if col1 is NaN."
   ]
  },
  {
   "cell_type": "markdown",
   "metadata": {},
   "source": [
    "# 常用聚合函数\n",
    "> F.udf(f, returnType=StringType)：数据类型一定要统一\n",
    "\n",
    "- mode\n",
    "- median\n",
    "- ..."
   ]
  },
  {
   "cell_type": "code",
   "execution_count": null,
   "metadata": {
    "collapsed": true
   },
   "outputs": [],
   "source": [
    "# mode\n",
    "from scipy import stats\n",
    "Mode = udf(lambda x:float(stats.mode(x)[0]),FloatType())\n",
    "\n",
    "df.groupBy('id').agg(m(F.collect_list('id'))).show()\n",
    "# median\n",
    "Median = udf(lambda x:float(np.median(x)),FloatType())"
   ]
  },
  {
   "cell_type": "code",
   "execution_count": null,
   "metadata": {
    "collapsed": true
   },
   "outputs": [],
   "source": []
  },
  {
   "cell_type": "code",
   "execution_count": null,
   "metadata": {
    "collapsed": true
   },
   "outputs": [],
   "source": []
  }
 ],
 "metadata": {
  "kernelspec": {
   "display_name": "Python 3",
   "language": "python",
   "name": "python3"
  },
  "language_info": {
   "codemirror_mode": {
    "name": "ipython",
    "version": 3
   },
   "file_extension": ".py",
   "mimetype": "text/x-python",
   "name": "python",
   "nbconvert_exporter": "python",
   "pygments_lexer": "ipython3",
   "version": "3.6.0"
  },
  "toc": {
   "colors": {
    "hover_highlight": "#DAA520",
    "running_highlight": "#FF0000",
    "selected_highlight": "#FFD700"
   },
   "moveMenuLeft": true,
   "nav_menu": {
    "height": "12px",
    "width": "252px"
   },
   "navigate_menu": true,
   "number_sections": true,
   "sideBar": true,
   "threshold": 4,
   "toc_cell": false,
   "toc_section_display": "block",
   "toc_window_display": false
  }
 },
 "nbformat": 4,
 "nbformat_minor": 2
}
