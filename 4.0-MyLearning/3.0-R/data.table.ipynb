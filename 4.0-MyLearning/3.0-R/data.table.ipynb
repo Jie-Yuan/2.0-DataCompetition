{
 "cells": [
  {
   "cell_type": "markdown",
   "metadata": {},
   "source": [
    "# [R：data.table][1]\n",
    "\n",
    "\n",
    "---\n",
    "# 数据结构\n",
    "```\n",
    "DT = data.table(x=c(\"b\",\"b\",\"b\",\"a\",\"a\"),v=rnorm(5))\n",
    "```\n",
    "# 设置键（自动排序）\n",
    "```\n",
    "setkey(DT,'x') # 类似pandas索引\n",
    "DT[\"A\", mult =\"first\"]\n",
    "DT[\"A\", mult = \"last\"]\n",
    "```\n",
    "# 切片与df基本一致\n",
    "- 行切\n",
    "```\n",
    "DT['b']\n",
    "DT[2:4] or DT[2:4,] # 类似pandas\n",
    "```\n",
    "- 列切\n",
    "```\n",
    "DT[,.(p,q)]\n",
    "```\n",
    "\n",
    "# 聚合函数\n",
    "```\n",
    "DT[,c('聚合','p'):=.(mean(v),median(v))] # :=增改列（基本都是就地更改）\n",
    "DT[,.(p,sum=sum(p))] # 列长不一致，循环补齐\n",
    "```\n",
    "\n",
    "# 分组聚合\n",
    "```\n",
    "DT[,.(sum = sum(v),mean=mean(v)),by=.(x,p)]\n",
    "DT[,.(sum = sum(v),mean=mean(v)),by=sign(v)] # 按照by分组可以、调用函数分组\n",
    "DT[, print(.SD), by=x] # .SD包含了各个分组(.SDcols是.SD子集)\n",
    "DT[,.SD[c(1,.N)],by=x] # 组内第一行或者最后一行\n",
    "DT[, lapply(.SD, sum), by=x] # 组内每一列的和\n",
    "```\n",
    "\n",
    "# 描述性统计\n",
    "```\n",
    "DT[,.N,by=x] # 使用函数.N来得到每个类别的总观测数\n",
    "DT[.N] # 最后一行\n",
    "DT[,.N] # 行数\n",
    "```\n",
    "\n",
    "# 高级操作\n",
    "```\n",
    "DT[, .(newcol = sum(p)),by=x][newcol > 0.1] # 分组聚合筛选\n",
    "DT[, .(newcol = sum(p)),by=x][newcol > 0.1][order(-newcol)]\n",
    "```\n",
    "\n",
    "# 多个表达式(行为操作)可以包裹在花括号中\n",
    "```\n",
    "DT[,{print(p)\n",
    "  plot(p) \n",
    "  NULL}]\n",
    "```\n",
    "\n",
    "  [1]: http://www.cnblogs.com/nxld/p/6059570.html"
   ]
  }
 ],
 "metadata": {
  "kernelspec": {
   "display_name": "Python 3",
   "language": "python",
   "name": "python3"
  },
  "language_info": {
   "codemirror_mode": {
    "name": "ipython",
    "version": 3
   },
   "file_extension": ".py",
   "mimetype": "text/x-python",
   "name": "python",
   "nbconvert_exporter": "python",
   "pygments_lexer": "ipython3",
   "version": "3.6.0"
  },
  "toc": {
   "colors": {
    "hover_highlight": "#DAA520",
    "running_highlight": "#FF0000",
    "selected_highlight": "#FFD700"
   },
   "moveMenuLeft": true,
   "nav_menu": {
    "height": "191px",
    "width": "252px"
   },
   "navigate_menu": true,
   "number_sections": true,
   "sideBar": true,
   "threshold": 4,
   "toc_cell": false,
   "toc_section_display": "block",
   "toc_window_display": false
  }
 },
 "nbformat": 4,
 "nbformat_minor": 2
}
