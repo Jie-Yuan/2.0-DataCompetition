{
 "cells": [
  {
   "cell_type": "code",
   "execution_count": 2,
   "metadata": {
    "collapsed": false
   },
   "outputs": [
    {
     "name": "stdout",
     "output_type": "stream",
     "text": [
      "Sucessful Import Me!!!\n"
     ]
    }
   ],
   "source": [
    "%matplotlib inline\n",
    "import os\n",
    "path = '/root/github/3_SpecialModule'\n",
    "os.sys.path.append(path)\n",
    "\n",
    "from Me import *"
   ]
  },
  {
   "cell_type": "markdown",
   "metadata": {},
   "source": [
    "# Train Data"
   ]
  },
  {
   "cell_type": "code",
   "execution_count": 19,
   "metadata": {
    "collapsed": false
   },
   "outputs": [],
   "source": [
    "x = np.linspace(-1, 1, 100)[:, np.newaxis]          # shape (100, 1)\n",
    "noise = np.random.normal(0, 0.1, size=x.shape)\n",
    "y = np.power(x, 2) + noise                          # shape (100, 1) + some noise"
   ]
  },
  {
   "cell_type": "markdown",
   "metadata": {},
   "source": [
    "# Params"
   ]
  },
  {
   "cell_type": "code",
   "execution_count": 30,
   "metadata": {
    "collapsed": true
   },
   "outputs": [],
   "source": [
    "learning_rate = 0.1\n",
    "training_epochs = 1000\n",
    "display_step = 50"
   ]
  },
  {
   "cell_type": "markdown",
   "metadata": {},
   "source": [
    "# Construct Model"
   ]
  },
  {
   "cell_type": "code",
   "execution_count": 31,
   "metadata": {
    "collapsed": false
   },
   "outputs": [],
   "source": [
    "tf_x = tf.placeholder(tf.float32, x.shape)\n",
    "tf_y = tf.placeholder(tf.float32, y.shape)\n",
    "\n",
    "# W = tf.Variable(np.random.randn(), name=\"weight\")\n",
    "# b = tf.Variable(np.random.randn(), name=\"bias\")\n",
    "# pred = tf.add(tf.multiply(tf_x, W), b)\n",
    "\n",
    "l1 = tf.layers.dense(inputs=tf_x, units=10, activation=tf.nn.relu) # hidden layer\n",
    "output = tf.layers.dense(inputs=l1, units=1)                       # output layer"
   ]
  },
  {
   "cell_type": "markdown",
   "metadata": {},
   "source": [
    "# Loss + Optimizer"
   ]
  },
  {
   "cell_type": "code",
   "execution_count": 32,
   "metadata": {
    "collapsed": false
   },
   "outputs": [],
   "source": [
    "loss = tf.losses.mean_squared_error(y,output)\n",
    "train_step = tf.train.GradientDescentOptimizer(learning_rate).minimize(loss)"
   ]
  },
  {
   "cell_type": "markdown",
   "metadata": {},
   "source": [
    "# Initializing the variables"
   ]
  },
  {
   "cell_type": "code",
   "execution_count": 33,
   "metadata": {
    "collapsed": true
   },
   "outputs": [],
   "source": [
    "sess = tf.Session()                                                                 # control training and others\n",
    "init = tf.group(tf.global_variables_initializer(), tf.local_variables_initializer())\n",
    "sess.run(init)     # initialize var in graph"
   ]
  },
  {
   "cell_type": "markdown",
   "metadata": {},
   "source": [
    "# Launch the graph"
   ]
  },
  {
   "cell_type": "code",
   "execution_count": 56,
   "metadata": {
    "collapsed": true
   },
   "outputs": [],
   "source": [
    "train_steps = 1000\n",
    "display_step = 5"
   ]
  },
  {
   "cell_type": "code",
   "execution_count": 57,
   "metadata": {
    "collapsed": false,
    "scrolled": true
   },
   "outputs": [
    {
     "name": "stdout",
     "output_type": "stream",
     "text": [
      "===> step:0001, loss = 0.014298675\n",
      "===> step:0006, loss = 0.014283118\n",
      "===> step:0011, loss = 0.014267764\n",
      "===> step:0016, loss = 0.014252649\n",
      "===> step:0021, loss = 0.014237722\n",
      "===> step:0026, loss = 0.014222972\n",
      "===> step:0031, loss = 0.014208398\n",
      "===> step:0036, loss = 0.014193989\n",
      "===> step:0041, loss = 0.014179742\n",
      "===> step:0046, loss = 0.014165686\n",
      "===> step:0051, loss = 0.014145746\n",
      "===> step:0056, loss = 0.014118247\n",
      "===> step:0061, loss = 0.014091897\n",
      "===> step:0066, loss = 0.014067604\n",
      "===> step:0071, loss = 0.014044109\n",
      "===> step:0076, loss = 0.014021242\n",
      "===> step:0081, loss = 0.013998809\n",
      "===> step:0086, loss = 0.013960175\n",
      "===> step:0091, loss = 0.013922876\n",
      "===> step:0096, loss = 0.013878838\n",
      "===> step:0101, loss = 0.013832653\n",
      "===> step:0106, loss = 0.013788939\n",
      "===> step:0111, loss = 0.013747985\n",
      "===> step:0116, loss = 0.013708395\n",
      "===> step:0121, loss = 0.013670092\n",
      "===> step:0126, loss = 0.013635422\n",
      "===> step:0131, loss = 0.013601555\n",
      "===> step:0136, loss = 0.013567917\n",
      "===> step:0141, loss = 0.013535567\n",
      "===> step:0146, loss = 0.013504420\n",
      "===> step:0151, loss = 0.013474405\n",
      "===> step:0156, loss = 0.013444401\n",
      "===> step:0161, loss = 0.013414068\n",
      "===> step:0166, loss = 0.013384904\n",
      "===> step:0171, loss = 0.013357919\n",
      "===> step:0176, loss = 0.013332439\n",
      "===> step:0181, loss = 0.013307894\n",
      "===> step:0186, loss = 0.013287737\n",
      "===> step:0191, loss = 0.013270218\n",
      "===> step:0196, loss = 0.013253238\n",
      "===> step:0201, loss = 0.013236747\n",
      "===> step:0206, loss = 0.013220718\n",
      "===> step:0211, loss = 0.013205128\n",
      "===> step:0216, loss = 0.013189949\n",
      "===> step:0221, loss = 0.013175167\n",
      "===> step:0226, loss = 0.013160758\n",
      "===> step:0231, loss = 0.013143046\n",
      "===> step:0236, loss = 0.013116324\n",
      "===> step:0241, loss = 0.013091014\n",
      "===> step:0246, loss = 0.013066742\n",
      "===> step:0251, loss = 0.013045282\n",
      "===> step:0256, loss = 0.013024931\n",
      "===> step:0261, loss = 0.013005257\n",
      "===> step:0266, loss = 0.012989751\n",
      "===> step:0271, loss = 0.012974662\n",
      "===> step:0276, loss = 0.012959919\n",
      "===> step:0281, loss = 0.012945507\n",
      "===> step:0286, loss = 0.012931418\n",
      "===> step:0291, loss = 0.012917634\n",
      "===> step:0296, loss = 0.012904153\n",
      "===> step:0301, loss = 0.012890957\n",
      "===> step:0306, loss = 0.012878044\n",
      "===> step:0311, loss = 0.012865398\n",
      "===> step:0316, loss = 0.012853012\n",
      "===> step:0321, loss = 0.012842288\n",
      "===> step:0326, loss = 0.012833186\n",
      "===> step:0331, loss = 0.012824326\n",
      "===> step:0336, loss = 0.012815634\n",
      "===> step:0341, loss = 0.012807085\n",
      "===> step:0346, loss = 0.012798674\n",
      "===> step:0351, loss = 0.012790382\n",
      "===> step:0356, loss = 0.012782202\n",
      "===> step:0361, loss = 0.012774128\n",
      "===> step:0366, loss = 0.012766157\n",
      "===> step:0371, loss = 0.012758281\n",
      "===> step:0376, loss = 0.012750494\n",
      "===> step:0381, loss = 0.012742821\n",
      "===> step:0386, loss = 0.012735286\n",
      "===> step:0391, loss = 0.012727859\n",
      "===> step:0396, loss = 0.012720554\n",
      "===> step:0401, loss = 0.012713308\n",
      "===> step:0406, loss = 0.012706157\n",
      "===> step:0411, loss = 0.012699093\n",
      "===> step:0416, loss = 0.012692111\n",
      "===> step:0421, loss = 0.012685168\n",
      "===> step:0426, loss = 0.012678325\n",
      "===> step:0431, loss = 0.012671526\n",
      "===> step:0436, loss = 0.012664790\n",
      "===> step:0441, loss = 0.012658124\n",
      "===> step:0446, loss = 0.012651517\n",
      "===> step:0451, loss = 0.012644972\n",
      "===> step:0456, loss = 0.012638479\n",
      "===> step:0461, loss = 0.012632024\n",
      "===> step:0466, loss = 0.012625638\n",
      "===> step:0471, loss = 0.012619291\n",
      "===> step:0476, loss = 0.012613003\n",
      "===> step:0481, loss = 0.012606769\n",
      "===> step:0486, loss = 0.012600605\n",
      "===> step:0491, loss = 0.012594483\n",
      "===> step:0496, loss = 0.012588399\n",
      "===> step:0501, loss = 0.012582356\n",
      "===> step:0506, loss = 0.012576351\n",
      "===> step:0511, loss = 0.012570381\n",
      "===> step:0516, loss = 0.012564447\n",
      "===> step:0521, loss = 0.012558552\n",
      "===> step:0526, loss = 0.012552779\n",
      "===> step:0531, loss = 0.012547042\n",
      "===> step:0536, loss = 0.012541342\n",
      "===> step:0541, loss = 0.012535670\n",
      "===> step:0546, loss = 0.012530033\n",
      "===> step:0551, loss = 0.012524559\n",
      "===> step:0556, loss = 0.012518978\n",
      "===> step:0561, loss = 0.012513466\n",
      "===> step:0566, loss = 0.012508103\n",
      "===> step:0571, loss = 0.012502629\n",
      "===> step:0576, loss = 0.012497358\n",
      "===> step:0581, loss = 0.012491970\n",
      "===> step:0586, loss = 0.012486701\n",
      "===> step:0591, loss = 0.012481485\n",
      "===> step:0596, loss = 0.012476227\n",
      "===> step:0601, loss = 0.012471004\n",
      "===> step:0606, loss = 0.012465890\n",
      "===> step:0611, loss = 0.012460806\n",
      "===> step:0616, loss = 0.012455780\n",
      "===> step:0621, loss = 0.012450769\n",
      "===> step:0626, loss = 0.012445731\n",
      "===> step:0631, loss = 0.012440724\n",
      "===> step:0636, loss = 0.012435746\n",
      "===> step:0641, loss = 0.012430899\n",
      "===> step:0646, loss = 0.012426056\n",
      "===> step:0651, loss = 0.012421218\n",
      "===> step:0656, loss = 0.012416322\n",
      "===> step:0661, loss = 0.012411568\n",
      "===> step:0666, loss = 0.012406864\n",
      "===> step:0671, loss = 0.012402053\n",
      "===> step:0676, loss = 0.012397437\n",
      "===> step:0681, loss = 0.012392743\n",
      "===> step:0686, loss = 0.012388086\n",
      "===> step:0691, loss = 0.012383477\n",
      "===> step:0696, loss = 0.012378894\n",
      "===> step:0701, loss = 0.012374393\n",
      "===> step:0706, loss = 0.012369771\n",
      "===> step:0711, loss = 0.012365244\n",
      "===> step:0716, loss = 0.012360847\n",
      "===> step:0721, loss = 0.012356461\n",
      "===> step:0726, loss = 0.012351990\n",
      "===> step:0731, loss = 0.012347550\n",
      "===> step:0736, loss = 0.012343133\n",
      "===> step:0741, loss = 0.012338766\n",
      "===> step:0746, loss = 0.012334441\n",
      "===> step:0751, loss = 0.012330148\n",
      "===> step:0756, loss = 0.012325890\n",
      "===> step:0761, loss = 0.012321658\n",
      "===> step:0766, loss = 0.012317483\n",
      "===> step:0771, loss = 0.012313279\n",
      "===> step:0776, loss = 0.012309033\n",
      "===> step:0781, loss = 0.012304842\n",
      "===> step:0786, loss = 0.012300733\n",
      "===> step:0791, loss = 0.012296624\n",
      "===> step:0796, loss = 0.012292483\n",
      "===> step:0801, loss = 0.012288440\n",
      "===> step:0806, loss = 0.012279007\n",
      "===> step:0811, loss = 0.012271004\n",
      "===> step:0816, loss = 0.012263570\n",
      "===> step:0821, loss = 0.012256324\n",
      "===> step:0826, loss = 0.012249396\n",
      "===> step:0831, loss = 0.012242730\n",
      "===> step:0836, loss = 0.012236075\n",
      "===> step:0841, loss = 0.012229756\n",
      "===> step:0846, loss = 0.012223494\n",
      "===> step:0851, loss = 0.012217262\n",
      "===> step:0856, loss = 0.012211272\n",
      "===> step:0861, loss = 0.012205408\n",
      "===> step:0866, loss = 0.012199526\n",
      "===> step:0871, loss = 0.012193744\n",
      "===> step:0876, loss = 0.012188076\n",
      "===> step:0881, loss = 0.012182499\n",
      "===> step:0886, loss = 0.012177207\n",
      "===> step:0891, loss = 0.012172766\n",
      "===> step:0896, loss = 0.012168585\n",
      "===> step:0901, loss = 0.012164538\n",
      "===> step:0906, loss = 0.012160447\n",
      "===> step:0911, loss = 0.012156537\n",
      "===> step:0916, loss = 0.012152638\n",
      "===> step:0921, loss = 0.012148676\n",
      "===> step:0926, loss = 0.012144747\n",
      "===> step:0931, loss = 0.012140964\n",
      "===> step:0936, loss = 0.012137220\n",
      "===> step:0941, loss = 0.012133412\n",
      "===> step:0946, loss = 0.012129743\n",
      "===> step:0951, loss = 0.012126102\n",
      "===> step:0956, loss = 0.012122463\n",
      "===> step:0961, loss = 0.012118892\n",
      "===> step:0966, loss = 0.012115422\n",
      "===> step:0971, loss = 0.012111889\n",
      "===> step:0976, loss = 0.012108398\n",
      "===> step:0981, loss = 0.012104951\n",
      "===> step:0986, loss = 0.012101593\n",
      "===> step:0991, loss = 0.012098196\n",
      "===> step:0996, loss = 0.012094865\n"
     ]
    },
    {
     "data": {
      "image/png": "[encoded data removed]",
      "text/plain": [
       "<matplotlib.figure.Figure at 0x7f44686990b8>"
      ]
     },
     "metadata": {},
     "output_type": "display_data"
    }
   ],
   "source": [
    "# plt.ion()   # something about plotting\n",
    "\n",
    "for step in range(train_steps):\n",
    "    # train and net output\n",
    "    _, l, pred = sess.run([train_step, loss, output], {tf_x: x, tf_y: y})\n",
    "    if step % display_step == 0:\n",
    "        print(\"===> step:{:04d}, loss = {:.9f}\".format(step+1, l))\n",
    "        # plot and show learning process\n",
    "        plt.cla()\n",
    "        plt.scatter(x, y)\n",
    "        plt.plot(x, pred, 'r-', lw=5)\n",
    "        plt.text(0.5, 0, 'Loss=%.4f' % l, fontdict={'size': 20, 'color': 'red'})\n",
    "        plt.pause(0.1)\n",
    "\n",
    "plt.ioff()\n",
    "plt.show()"
   ]
  },
  {
   "cell_type": "code",
   "execution_count": null,
   "metadata": {
    "collapsed": true
   },
   "outputs": [],
   "source": []
  }
 ],
 "metadata": {
  "anaconda-cloud": {},
  "kernelspec": {
   "display_name": "Python [default]",
   "language": "python",
   "name": "python3"
  },
  "language_info": {
   "codemirror_mode": {
    "name": "ipython",
    "version": 3
   },
   "file_extension": ".py",
   "mimetype": "text/x-python",
   "name": "python",
   "nbconvert_exporter": "python",
   "pygments_lexer": "ipython3",
   "version": "3.5.2"
  },
  "toc": {
   "colors": {
    "hover_highlight": "#DAA520",
    "running_highlight": "#FF0000",
    "selected_highlight": "#FFD700"
   },
   "moveMenuLeft": true,
   "nav_menu": {
    "height": "156px",
    "width": "252px"
   },
   "navigate_menu": true,
   "number_sections": true,
   "sideBar": true,
   "threshold": 4,
   "toc_cell": false,
   "toc_section_display": "block",
   "toc_window_display": false,
   "widenNotebook": false
  }
 },
 "nbformat": 4,
 "nbformat_minor": 1
}
