{
 "cells": [
  {
   "cell_type": "code",
   "execution_count": 1,
   "metadata": {
    "collapsed": false
   },
   "outputs": [
    {
     "name": "stdout",
     "output_type": "stream",
     "text": [
      "Sucessful Import Me!!!\n"
     ]
    }
   ],
   "source": [
    "%matplotlib inline\n",
    "import os\n",
    "path = '/root/github/3_SpecialModule'\n",
    "os.sys.path.append(path)\n",
    "\n",
    "from Me import *"
   ]
  },
  {
   "cell_type": "markdown",
   "metadata": {},
   "source": [
    "# Train Data"
   ]
  },
  {
   "cell_type": "code",
   "execution_count": 2,
   "metadata": {
    "collapsed": false
   },
   "outputs": [
    {
     "name": "stdout",
     "output_type": "stream",
     "text": [
      "Extracting MNIST_data/train-images-idx3-ubyte.gz\n",
      "Extracting MNIST_data/train-labels-idx1-ubyte.gz\n",
      "Extracting MNIST_data/t10k-images-idx3-ubyte.gz\n",
      "Extracting MNIST_data/t10k-labels-idx1-ubyte.gz\n"
     ]
    }
   ],
   "source": [
    "from tensorflow.examples.tutorials.mnist import input_data\n",
    "mnist = input_data.read_data_sets(\"MNIST_data/\", one_hot=True)"
   ]
  },
  {
   "cell_type": "code",
   "execution_count": 21,
   "metadata": {
    "collapsed": false
   },
   "outputs": [
    {
     "data": {
      "text/plain": [
       "55000"
      ]
     },
     "execution_count": 21,
     "metadata": {},
     "output_type": "execute_result"
    }
   ],
   "source": [
    "mnist.train.num_examples"
   ]
  },
  {
   "cell_type": "markdown",
   "metadata": {},
   "source": [
    "# Params"
   ]
  },
  {
   "cell_type": "code",
   "execution_count": 13,
   "metadata": {
    "collapsed": true
   },
   "outputs": [],
   "source": [
    "learning_rate = 0.01\n",
    "training_epochs = 5\n",
    "batch_size = 100\n",
    "total_batch = int(mnist.train.num_examples/batch_size)\n",
    "display_step = 1\n"
   ]
  },
  {
   "cell_type": "code",
   "execution_count": 6,
   "metadata": {
    "collapsed": true
   },
   "outputs": [],
   "source": [
    "tf.negative?"
   ]
  },
  {
   "cell_type": "markdown",
   "metadata": {},
   "source": [
    "# Construct Model"
   ]
  },
  {
   "cell_type": "code",
   "execution_count": 25,
   "metadata": {
    "collapsed": true
   },
   "outputs": [],
   "source": [
    "# In this example, we limit mnist data\n",
    "Xtr, Ytr = mnist.train.next_batch(5000) #5000 for training (nn candidates)\n",
    "Xte, Yte = mnist.test.next_batch(200) #200 for testing\n",
    "\n",
    "# tf Graph Input\n",
    "xtr = tf.placeholder(\"float\", [None, 784])\n",
    "xte = tf.placeholder(\"float\", [784])\n"
   ]
  },
  {
   "cell_type": "markdown",
   "metadata": {},
   "source": [
    "# Loss + Optimizer"
   ]
  },
  {
   "cell_type": "code",
   "execution_count": 5,
   "metadata": {
    "collapsed": false
   },
   "outputs": [],
   "source": [
    "# Nearest Neighbor calculation using L1 Distance\n",
    "# Calculate L1 Distance\n",
    "distance = tf.reduce_sum(tf.abs(tf.add(xtr, tf.negative(xte))), reduction_indices=1)\n",
    "# Prediction: Get min distance index (Nearest neighbor)\n",
    "pred = tf.arg_min(distance, 0)"
   ]
  },
  {
   "cell_type": "markdown",
   "metadata": {},
   "source": [
    "# Initializing the variables"
   ]
  },
  {
   "cell_type": "code",
   "execution_count": 17,
   "metadata": {
    "collapsed": true
   },
   "outputs": [],
   "source": [
    "init = tf.global_variables_initializer()"
   ]
  },
  {
   "cell_type": "markdown",
   "metadata": {},
   "source": [
    "# Launch the graph"
   ]
  },
  {
   "cell_type": "code",
   "execution_count": 26,
   "metadata": {
    "collapsed": false,
    "scrolled": false
   },
   "outputs": [
    {
     "name": "stdout",
     "output_type": "stream",
     "text": [
      "Test 0 Prediction: 9 True Class: 9\n",
      "Test 1 Prediction: 6 True Class: 6\n",
      "Test 2 Prediction: 3 True Class: 3\n",
      "Test 3 Prediction: 7 True Class: 7\n",
      "Test 4 Prediction: 4 True Class: 4\n",
      "Test 5 Prediction: 8 True Class: 8\n",
      "Test 6 Prediction: 1 True Class: 1\n",
      "Test 7 Prediction: 8 True Class: 8\n",
      "Test 8 Prediction: 9 True Class: 9\n",
      "Test 9 Prediction: 2 True Class: 2\n",
      "Test 10 Prediction: 8 True Class: 8\n",
      "Test 11 Prediction: 9 True Class: 9\n",
      "Test 12 Prediction: 0 True Class: 0\n",
      "Test 13 Prediction: 0 True Class: 0\n",
      "Test 14 Prediction: 1 True Class: 1\n",
      "Test 15 Prediction: 9 True Class: 9\n",
      "Test 16 Prediction: 2 True Class: 2\n",
      "Test 17 Prediction: 7 True Class: 2\n",
      "Test 18 Prediction: 5 True Class: 5\n",
      "Test 19 Prediction: 7 True Class: 9\n",
      "Test 20 Prediction: 6 True Class: 6\n",
      "Test 21 Prediction: 1 True Class: 1\n",
      "Test 22 Prediction: 7 True Class: 7\n",
      "Test 23 Prediction: 3 True Class: 3\n",
      "Test 24 Prediction: 2 True Class: 2\n",
      "Test 25 Prediction: 8 True Class: 8\n",
      "Test 26 Prediction: 7 True Class: 7\n",
      "Test 27 Prediction: 5 True Class: 5\n",
      "Test 28 Prediction: 3 True Class: 3\n",
      "Test 29 Prediction: 0 True Class: 0\n",
      "Test 30 Prediction: 6 True Class: 6\n",
      "Test 31 Prediction: 6 True Class: 6\n",
      "Test 32 Prediction: 9 True Class: 9\n",
      "Test 33 Prediction: 1 True Class: 1\n",
      "Test 34 Prediction: 3 True Class: 3\n",
      "Test 35 Prediction: 0 True Class: 0\n",
      "Test 36 Prediction: 8 True Class: 8\n",
      "Test 37 Prediction: 1 True Class: 1\n",
      "Test 38 Prediction: 0 True Class: 0\n",
      "Test 39 Prediction: 3 True Class: 3\n",
      "Test 40 Prediction: 1 True Class: 1\n",
      "Test 41 Prediction: 2 True Class: 2\n",
      "Test 42 Prediction: 2 True Class: 2\n",
      "Test 43 Prediction: 9 True Class: 9\n",
      "Test 44 Prediction: 3 True Class: 3\n",
      "Test 45 Prediction: 2 True Class: 2\n",
      "Test 46 Prediction: 0 True Class: 0\n",
      "Test 47 Prediction: 0 True Class: 0\n",
      "Test 48 Prediction: 9 True Class: 9\n",
      "Test 49 Prediction: 7 True Class: 7\n",
      "Test 50 Prediction: 2 True Class: 2\n",
      "Test 51 Prediction: 5 True Class: 5\n",
      "Test 52 Prediction: 0 True Class: 0\n",
      "Test 53 Prediction: 4 True Class: 9\n",
      "Test 54 Prediction: 9 True Class: 9\n",
      "Test 55 Prediction: 0 True Class: 0\n",
      "Test 56 Prediction: 1 True Class: 1\n",
      "Test 57 Prediction: 1 True Class: 1\n",
      "Test 58 Prediction: 9 True Class: 9\n",
      "Test 59 Prediction: 4 True Class: 4\n",
      "Test 60 Prediction: 7 True Class: 7\n",
      "Test 61 Prediction: 9 True Class: 9\n",
      "Test 62 Prediction: 9 True Class: 9\n",
      "Test 63 Prediction: 8 True Class: 8\n",
      "Test 64 Prediction: 5 True Class: 5\n",
      "Test 65 Prediction: 4 True Class: 4\n",
      "Test 66 Prediction: 0 True Class: 0\n",
      "Test 67 Prediction: 8 True Class: 8\n",
      "Test 68 Prediction: 5 True Class: 5\n",
      "Test 69 Prediction: 0 True Class: 0\n",
      "Test 70 Prediction: 3 True Class: 3\n",
      "Test 71 Prediction: 2 True Class: 2\n",
      "Test 72 Prediction: 4 True Class: 4\n",
      "Test 73 Prediction: 1 True Class: 1\n",
      "Test 74 Prediction: 0 True Class: 0\n",
      "Test 75 Prediction: 3 True Class: 9\n",
      "Test 76 Prediction: 1 True Class: 1\n",
      "Test 77 Prediction: 2 True Class: 2\n",
      "Test 78 Prediction: 5 True Class: 5\n",
      "Test 79 Prediction: 1 True Class: 1\n",
      "Test 80 Prediction: 5 True Class: 5\n",
      "Test 81 Prediction: 2 True Class: 2\n",
      "Test 82 Prediction: 9 True Class: 9\n",
      "Test 83 Prediction: 5 True Class: 5\n",
      "Test 84 Prediction: 7 True Class: 7\n",
      "Test 85 Prediction: 4 True Class: 4\n",
      "Test 86 Prediction: 3 True Class: 3\n",
      "Test 87 Prediction: 0 True Class: 0\n",
      "Test 88 Prediction: 1 True Class: 1\n",
      "Test 89 Prediction: 3 True Class: 3\n",
      "Test 90 Prediction: 5 True Class: 5\n",
      "Test 91 Prediction: 9 True Class: 9\n",
      "Test 92 Prediction: 6 True Class: 6\n",
      "Test 93 Prediction: 7 True Class: 7\n",
      "Test 94 Prediction: 7 True Class: 7\n",
      "Test 95 Prediction: 5 True Class: 5\n",
      "Test 96 Prediction: 8 True Class: 8\n",
      "Test 97 Prediction: 4 True Class: 4\n",
      "Test 98 Prediction: 5 True Class: 5\n",
      "Test 99 Prediction: 0 True Class: 0\n",
      "Test 100 Prediction: 5 True Class: 5\n",
      "Test 101 Prediction: 9 True Class: 9\n",
      "Test 102 Prediction: 1 True Class: 1\n",
      "Test 103 Prediction: 0 True Class: 0\n",
      "Test 104 Prediction: 0 True Class: 0\n",
      "Test 105 Prediction: 6 True Class: 6\n",
      "Test 106 Prediction: 6 True Class: 6\n",
      "Test 107 Prediction: 0 True Class: 0\n",
      "Test 108 Prediction: 7 True Class: 7\n",
      "Test 109 Prediction: 9 True Class: 9\n",
      "Test 110 Prediction: 6 True Class: 6\n",
      "Test 111 Prediction: 6 True Class: 6\n",
      "Test 112 Prediction: 1 True Class: 1\n",
      "Test 113 Prediction: 8 True Class: 8\n",
      "Test 114 Prediction: 4 True Class: 4\n",
      "Test 115 Prediction: 1 True Class: 1\n",
      "Test 116 Prediction: 5 True Class: 5\n",
      "Test 117 Prediction: 1 True Class: 1\n",
      "Test 118 Prediction: 9 True Class: 9\n",
      "Test 119 Prediction: 4 True Class: 4\n",
      "Test 120 Prediction: 3 True Class: 3\n",
      "Test 121 Prediction: 1 True Class: 1\n",
      "Test 122 Prediction: 4 True Class: 4\n",
      "Test 123 Prediction: 0 True Class: 0\n",
      "Test 124 Prediction: 6 True Class: 6\n",
      "Test 125 Prediction: 5 True Class: 5\n",
      "Test 126 Prediction: 9 True Class: 9\n",
      "Test 127 Prediction: 7 True Class: 7\n",
      "Test 128 Prediction: 2 True Class: 2\n",
      "Test 129 Prediction: 4 True Class: 4\n",
      "Test 130 Prediction: 2 True Class: 2\n",
      "Test 131 Prediction: 9 True Class: 9\n",
      "Test 132 Prediction: 1 True Class: 1\n",
      "Test 133 Prediction: 7 True Class: 7\n",
      "Test 134 Prediction: 0 True Class: 0\n",
      "Test 135 Prediction: 9 True Class: 9\n",
      "Test 136 Prediction: 6 True Class: 6\n",
      "Test 137 Prediction: 8 True Class: 8\n",
      "Test 138 Prediction: 7 True Class: 7\n",
      "Test 139 Prediction: 7 True Class: 7\n",
      "Test 140 Prediction: 0 True Class: 0\n",
      "Test 141 Prediction: 8 True Class: 8\n",
      "Test 142 Prediction: 7 True Class: 7\n",
      "Test 143 Prediction: 6 True Class: 6\n",
      "Test 144 Prediction: 3 True Class: 3\n",
      "Test 145 Prediction: 0 True Class: 0\n",
      "Test 146 Prediction: 1 True Class: 7\n",
      "Test 147 Prediction: 9 True Class: 9\n",
      "Test 148 Prediction: 1 True Class: 1\n",
      "Test 149 Prediction: 1 True Class: 1\n",
      "Test 150 Prediction: 6 True Class: 6\n",
      "Test 151 Prediction: 3 True Class: 3\n",
      "Test 152 Prediction: 6 True Class: 6\n",
      "Test 153 Prediction: 2 True Class: 2\n",
      "Test 154 Prediction: 9 True Class: 4\n",
      "Test 155 Prediction: 8 True Class: 8\n",
      "Test 156 Prediction: 3 True Class: 8\n",
      "Test 157 Prediction: 7 True Class: 7\n",
      "Test 158 Prediction: 4 True Class: 4\n",
      "Test 159 Prediction: 3 True Class: 8\n",
      "Test 160 Prediction: 7 True Class: 7\n",
      "Test 161 Prediction: 1 True Class: 1\n",
      "Test 162 Prediction: 9 True Class: 9\n",
      "Test 163 Prediction: 8 True Class: 8\n",
      "Test 164 Prediction: 7 True Class: 7\n",
      "Test 165 Prediction: 8 True Class: 8\n",
      "Test 166 Prediction: 2 True Class: 2\n",
      "Test 167 Prediction: 3 True Class: 3\n",
      "Test 168 Prediction: 0 True Class: 0\n",
      "Test 169 Prediction: 2 True Class: 2\n",
      "Test 170 Prediction: 4 True Class: 4\n",
      "Test 171 Prediction: 1 True Class: 1\n",
      "Test 172 Prediction: 0 True Class: 0\n",
      "Test 173 Prediction: 7 True Class: 7\n",
      "Test 174 Prediction: 2 True Class: 2\n",
      "Test 175 Prediction: 6 True Class: 6\n",
      "Test 176 Prediction: 5 True Class: 5\n",
      "Test 177 Prediction: 0 True Class: 0\n",
      "Test 178 Prediction: 2 True Class: 2\n",
      "Test 179 Prediction: 0 True Class: 0\n",
      "Test 180 Prediction: 9 True Class: 9\n",
      "Test 181 Prediction: 1 True Class: 1\n",
      "Test 182 Prediction: 5 True Class: 5\n",
      "Test 183 Prediction: 0 True Class: 0\n",
      "Test 184 Prediction: 8 True Class: 8\n",
      "Test 185 Prediction: 6 True Class: 6\n",
      "Test 186 Prediction: 2 True Class: 2\n",
      "Test 187 Prediction: 6 True Class: 6\n",
      "Test 188 Prediction: 7 True Class: 7\n",
      "Test 189 Prediction: 7 True Class: 7\n",
      "Test 190 Prediction: 6 True Class: 5\n",
      "Test 191 Prediction: 6 True Class: 6\n",
      "Test 192 Prediction: 8 True Class: 8\n",
      "Test 193 Prediction: 7 True Class: 7\n",
      "Test 194 Prediction: 6 True Class: 6\n",
      "Test 195 Prediction: 2 True Class: 2\n",
      "Test 196 Prediction: 5 True Class: 5\n",
      "Test 197 Prediction: 5 True Class: 5\n",
      "Test 198 Prediction: 8 True Class: 8\n",
      "Test 199 Prediction: 4 True Class: 4\n",
      "Done!\n",
      "Accuracy: 0.9550000000000007\n"
     ]
    }
   ],
   "source": [
    "# Launch the graph\n",
    "with tf.Session() as sess:\n",
    "    sess.run(init)\n",
    "    accuracy = 0.\n",
    "    # loop over test data\n",
    "    for i in range(len(Xte)):\n",
    "        # Get nearest neighbor\n",
    "        nn_index = sess.run(pred, feed_dict={xtr: Xtr, xte: Xte[i, :]})\n",
    "        # Get nearest neighbor class label and compare it to its true label\n",
    "        print(\"Test\", i, \"Prediction:\", np.argmax(Ytr[nn_index]),\"True Class:\", np.argmax(Yte[i]))\n",
    "        # Calculate accuracy\n",
    "        if np.argmax(Ytr[nn_index]) == np.argmax(Yte[i]):\n",
    "            accuracy += 1./len(Xte)\n",
    "    print( \"Done!\")\n",
    "    print( \"Accuracy:\", accuracy)"
   ]
  },
  {
   "cell_type": "code",
   "execution_count": null,
   "metadata": {
    "collapsed": true
   },
   "outputs": [],
   "source": []
  }
 ],
 "metadata": {
  "anaconda-cloud": {},
  "kernelspec": {
   "display_name": "Python [default]",
   "language": "python",
   "name": "python3"
  },
  "language_info": {
   "codemirror_mode": {
    "name": "ipython",
    "version": 3
   },
   "file_extension": ".py",
   "mimetype": "text/x-python",
   "name": "python",
   "nbconvert_exporter": "python",
   "pygments_lexer": "ipython3",
   "version": "3.5.2"
  },
  "toc": {
   "colors": {
    "hover_highlight": "#DAA520",
    "running_highlight": "#FF0000",
    "selected_highlight": "#FFD700"
   },
   "moveMenuLeft": true,
   "nav_menu": {
    "height": "156px",
    "width": "252px"
   },
   "navigate_menu": true,
   "number_sections": true,
   "sideBar": true,
   "threshold": 4,
   "toc_cell": false,
   "toc_section_display": "block",
   "toc_window_display": false,
   "widenNotebook": false
  }
 },
 "nbformat": 4,
 "nbformat_minor": 1
}
